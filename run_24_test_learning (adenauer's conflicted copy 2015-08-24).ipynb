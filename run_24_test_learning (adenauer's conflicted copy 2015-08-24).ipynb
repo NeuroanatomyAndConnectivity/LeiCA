{
 "cells": [
  {
   "cell_type": "code",
   "execution_count": 2,
   "metadata": {
    "collapsed": false
   },
   "outputs": [],
   "source": [
    "%matplotlib inline\n",
    "\n",
    "import numpy as np\n",
    "import nibabel as nb\n",
    "import pandas as pd\n",
    "import sklearn\n",
    "import pylab as plt\n",
    "from nilearn import plotting\n",
    "from nilearn.input_data import NiftiMasker\n"
   ]
  },
  {
   "cell_type": "code",
   "execution_count": 3,
   "metadata": {
    "collapsed": false
   },
   "outputs": [
    {
     "name": "stdout",
     "output_type": "stream",
     "text": [
      "kaiser\r\n"
     ]
    }
   ],
   "source": [
    "!hostname"
   ]
  },
  {
   "cell_type": "code",
   "execution_count": 4,
   "metadata": {
    "collapsed": false
   },
   "outputs": [],
   "source": [
    "def pred_real_scatter(y_test, y_test_predicted):\n",
    "    plt.scatter(y_test, y_test_predicted)\n",
    "    plt.plot([10,80],[10,80], 'k')\n",
    "    plt.xlabel('real')\n",
    "    plt.ylabel('predicted')\n",
    "    ax = plt.gca()\n",
    "    ax.set_aspect('equal')"
   ]
  },
  {
   "cell_type": "markdown",
   "metadata": {},
   "source": [
    "# load and preprocess data MBP"
   ]
  },
  {
   "cell_type": "code",
   "execution_count": null,
   "metadata": {
    "collapsed": true
   },
   "outputs": [],
   "source": [
    "brain_mask_file = '/Users/franzliem/Dropbox/Workspace/LeiCA/anat_templates/\\\n",
    "cpac_image_resources/MNI_3mm/MNI152_T1_3mm_brain_mask.nii.gz'\n",
    "brain_data_file_template = '/Users/franzliem/Dropbox/LeiCA/00_learning_test/%s_merge.nii.gz'\n",
    "df_file = '/Users/franzliem/Dropbox/LeiCA/00_learning_test/df_used.csv'\n",
    "subject_list = '/Users/franzliem/Dropbox/LeiCA/00_learning_test/subject_list.txt'\n",
    "metrics_list = ['alff', 'reho', 'falff']\n",
    "\n",
    "df = pd.read_csv(df_file, dtype='object')\n",
    "df = df.set_index(df.subject_id)\n",
    "\n",
    "s = pd.read_csv(subject_list, header=None, dtype=object)\n",
    "s.columns=['subject_id']\n",
    "assert np.all(s.subject_id == df.subject_id), \"df not in right order\""
   ]
  },
  {
   "cell_type": "markdown",
   "metadata": {},
   "source": [
    "# load and preprocess data adenauer residualized data"
   ]
  },
  {
   "cell_type": "code",
   "execution_count": 35,
   "metadata": {
    "collapsed": false
   },
   "outputs": [],
   "source": [
    "brain_mask_file = '/home/raid2/liem/Dropbox/Workspace/LeiCA/anat_templates/\\\n",
    "cpac_image_resources/MNI_3mm/MNI152_T1_3mm_brain_mask.nii.gz'\n",
    "brain_data_file_template = '/scr/adenauer2/Franz/LeiCA_NKI/wd_metrics/\\\n",
    "group_metric_residuals_test_noMeanSignalRegressor/%s/LeiCA_collect_metrics/residualize_data/residualized_data.nii.gz'\n",
    "df_file = '/home/raid2/liem/Dropbox/LeiCa/00_learning_test/df_used.csv'\n",
    "subject_list = '/home/raid2/liem/Dropbox/LeiCa/00_learning_test/subject_list.txt'\n",
    "metrics_list = ['alff', 'reho', 'falff','vmhc', 'dc_b', 'variability_std']\n",
    "\n",
    "df = pd.read_csv(df_file, dtype='object')\n",
    "df = df.set_index(df.subject_id)\n",
    "\n",
    "s = pd.read_csv(subject_list, header=None, dtype=object)\n",
    "s.columns=['subject_id']\n",
    "assert np.all(s.subject_id == df.subject_id), \"df not in right order\""
   ]
  },
  {
   "cell_type": "markdown",
   "metadata": {},
   "source": [
    "## extracting data with nilearn"
   ]
  },
  {
   "cell_type": "code",
   "execution_count": 36,
   "metadata": {
    "collapsed": false
   },
   "outputs": [
    {
     "name": "stdout",
     "output_type": "stream",
     "text": [
      "/scr/adenauer2/Franz/LeiCA_NKI/wd_metrics/group_metric_residuals_test_noMeanSignalRegressor/alff/LeiCA_collect_metrics/residualize_data/residualized_data.nii.gz\n",
      "/scr/adenauer2/Franz/LeiCA_NKI/wd_metrics/group_metric_residuals_test_noMeanSignalRegressor/reho/LeiCA_collect_metrics/residualize_data/residualized_data.nii.gz\n",
      "/scr/adenauer2/Franz/LeiCA_NKI/wd_metrics/group_metric_residuals_test_noMeanSignalRegressor/falff/LeiCA_collect_metrics/residualize_data/residualized_data.nii.gz\n",
      "/scr/adenauer2/Franz/LeiCA_NKI/wd_metrics/group_metric_residuals_test_noMeanSignalRegressor/vmhc/LeiCA_collect_metrics/residualize_data/residualized_data.nii.gz\n",
      "/scr/adenauer2/Franz/LeiCA_NKI/wd_metrics/group_metric_residuals_test_noMeanSignalRegressor/dc_b/LeiCA_collect_metrics/residualize_data/residualized_data.nii.gz\n",
      "/scr/adenauer2/Franz/LeiCA_NKI/wd_metrics/group_metric_residuals_test_noMeanSignalRegressor/variability_std/LeiCA_collect_metrics/residualize_data/residualized_data.nii.gz\n"
     ]
    },
    {
     "data": {
      "image/png": "[encoded data removed]",
      "text/plain": [
       "<matplotlib.figure.Figure at 0x4d70590>"
      ]
     },
     "metadata": {},
     "output_type": "display_data"
    }
   ],
   "source": [
    "\n",
    "plotting.plot_roi(brain_mask_file)\n",
    "masker = NiftiMasker(mask_img=brain_mask_file)\n",
    "\n",
    "\n",
    "brain_data_list = []\n",
    "for m in metrics_list:\n",
    "    brain_data_file = (brain_data_file_template)%m\n",
    "    print brain_data_file\n",
    "    brain_data_list.append(masker.fit_transform(brain_data_file))\n"
   ]
  },
  {
   "cell_type": "code",
   "execution_count": 38,
   "metadata": {
    "collapsed": false
   },
   "outputs": [
    {
     "name": "stdout",
     "output_type": "stream",
     "text": [
      "(257, 406494)\n"
     ]
    }
   ],
   "source": [
    "dict_2d=dict()\n",
    "for i,m in enumerate(metrics_list):\n",
    "    dict_2d[m]=brain_data_list[i]\n",
    "\n",
    "\n",
    "X = np.hstack([dict_2d[m] for m in metrics_list])\n",
    "#X = alff_2d\n",
    "print X.shape\n",
    "y = df.age.values.astype(np.float)\n",
    "#y = df.mean_FD_Power.values.astype(np.float)\n",
    "\n",
    "\n",
    "assert X.shape[0] == y.shape[0], \"shape error\""
   ]
  },
  {
   "cell_type": "code",
   "execution_count": 39,
   "metadata": {
    "collapsed": false
   },
   "outputs": [
    {
     "name": "stdout",
     "output_type": "stream",
     "text": [
      "(257, 406494)\n",
      "(array([303225, 304888, 304928, 304963, 305032, 305033, 305065, 305066,\n",
      "       305098]),)\n"
     ]
    }
   ],
   "source": [
    "print X.shape\n",
    "sd = X.std(axis=0)\n",
    "print np.where(sd==0)"
   ]
  },
  {
   "cell_type": "markdown",
   "metadata": {},
   "source": [
    "## women only"
   ]
  },
  {
   "cell_type": "code",
   "execution_count": 40,
   "metadata": {
    "collapsed": false
   },
   "outputs": [
    {
     "name": "stdout",
     "output_type": "stream",
     "text": [
      "(166, 406494) (166,)\n"
     ]
    }
   ],
   "source": [
    "y = y[(df.sex=='F').values].astype(np.float)\n",
    "X = X[(df.sex=='F').values,:]\n",
    "\n",
    "print X.shape, y.shape"
   ]
  },
  {
   "cell_type": "markdown",
   "metadata": {},
   "source": [
    "## reduce X for testing"
   ]
  },
  {
   "cell_type": "code",
   "execution_count": null,
   "metadata": {
    "collapsed": false
   },
   "outputs": [],
   "source": [
    "#X = X[:,:100]\n",
    "#X.shape"
   ]
  },
  {
   "cell_type": "markdown",
   "metadata": {},
   "source": [
    "# learning"
   ]
  },
  {
   "cell_type": "markdown",
   "metadata": {},
   "source": [
    "## full model without CV"
   ]
  },
  {
   "cell_type": "code",
   "execution_count": null,
   "metadata": {
    "collapsed": false
   },
   "outputs": [],
   "source": [
    "from sklearn.svm import SVR\n",
    "from sklearn.metrics import mean_absolute_error\n",
    "\n",
    "regression_model = SVR(kernel='linear')\n",
    "regression_model.fit(X,y)\n",
    "y_predicted = regression_model.predict(X)"
   ]
  },
  {
   "cell_type": "code",
   "execution_count": null,
   "metadata": {
    "collapsed": false
   },
   "outputs": [],
   "source": [
    "mae = mean_absolute_error(y, y_predicted)\n",
    "print mae"
   ]
  },
  {
   "cell_type": "code",
   "execution_count": null,
   "metadata": {
    "collapsed": false
   },
   "outputs": [],
   "source": [
    "plt.scatter(y, y_predicted)"
   ]
  },
  {
   "cell_type": "code",
   "execution_count": null,
   "metadata": {
    "collapsed": false
   },
   "outputs": [],
   "source": []
  },
  {
   "cell_type": "code",
   "execution_count": null,
   "metadata": {
    "collapsed": false
   },
   "outputs": [],
   "source": []
  },
  {
   "cell_type": "markdown",
   "metadata": {},
   "source": [
    "## use CV"
   ]
  },
  {
   "cell_type": "code",
   "execution_count": 41,
   "metadata": {
    "collapsed": false
   },
   "outputs": [
    {
     "name": "stdout",
     "output_type": "stream",
     "text": [
      "CV scores:\n",
      "min: 0.271, mean: 0.403, max: 0.485\n",
      "CPU times: user 252 ms, sys: 2.05 s, total: 2.3 s\n",
      "Wall time: 31.9 s\n"
     ]
    },
    {
     "data": {
      "image/png": "[encoded data removed]",
      "text/plain": [
       "<matplotlib.figure.Figure at 0x3d21410>"
      ]
     },
     "metadata": {},
     "output_type": "display_data"
    }
   ],
   "source": [
    "%%time\n",
    "from sklearn.svm import SVR\n",
    "from sklearn.metrics import mean_absolute_error\n",
    "from sklearn.cross_validation import cross_val_score, cross_val_predict\n",
    "\n",
    "regression_model = SVR(kernel='linear', epsilon=7, C=.1)\n",
    "cv_scores = cross_val_score(regression_model, X, y, cv=5, n_jobs=10, scoring='r2')\n",
    "\n",
    "print(\"CV scores:\")\n",
    "print(\"min: {:.3f}, mean: {:.3f}, max: {:.3f}\".format(\n",
    "    cv_scores.min(), cv_scores.mean(), cv_scores.max()))\n",
    "\n",
    "y_predicted = cross_val_predict(regression_model, X, y, cv=5, n_jobs=10)\n",
    "pred_real_scatter(y, y_predicted)"
   ]
  },
  {
   "cell_type": "code",
   "execution_count": 42,
   "metadata": {
    "collapsed": false
   },
   "outputs": [
    {
     "name": "stdout",
     "output_type": "stream",
     "text": [
      "CPU times: user 34.3 s, sys: 1.71 s, total: 36 s\n",
      "Wall time: 1min 25s\n"
     ]
    }
   ],
   "source": [
    "%%time\n",
    "\n",
    "from sklearn.grid_search import GridSearchCV\n",
    "\n",
    "regression_model = SVR(kernel='linear')\n",
    "\n",
    "params = {\n",
    "    'C': [.01,.06,.1], #np.arange(.01,.1,.01) \n",
    "    'epsilon': [7,8,9] #np.arange(5,15,1) \n",
    "}\n",
    "gs = GridSearchCV(regression_model, params, cv=5, scoring='r2', n_jobs=25)\n",
    "gs.fit(X, y)\n"
   ]
  },
  {
   "cell_type": "code",
   "execution_count": 43,
   "metadata": {
    "collapsed": false
   },
   "outputs": [
    {
     "data": {
      "text/plain": [
       "[mean: 0.40521, std: 0.05828, params: {'epsilon': 7, 'C': 0.01},\n",
       " mean: 0.40353, std: 0.07029, params: {'epsilon': 8, 'C': 0.06},\n",
       " mean: 0.40353, std: 0.07029, params: {'epsilon': 8, 'C': 0.1},\n",
       " mean: 0.40256, std: 0.05667, params: {'epsilon': 8, 'C': 0.01},\n",
       " mean: 0.40244, std: 0.07549, params: {'epsilon': 7, 'C': 0.06},\n",
       " mean: 0.40244, std: 0.07549, params: {'epsilon': 7, 'C': 0.1},\n",
       " mean: 0.40221, std: 0.06714, params: {'epsilon': 9, 'C': 0.06},\n",
       " mean: 0.40221, std: 0.06714, params: {'epsilon': 9, 'C': 0.1},\n",
       " mean: 0.40085, std: 0.05582, params: {'epsilon': 9, 'C': 0.01}]"
      ]
     },
     "execution_count": 43,
     "metadata": {},
     "output_type": "execute_result"
    }
   ],
   "source": [
    "sorted(gs.grid_scores_, key=lambda x: x.mean_validation_score, reverse=True)\n"
   ]
  },
  {
   "cell_type": "markdown",
   "metadata": {},
   "source": [
    "## Ridge regression"
   ]
  },
  {
   "cell_type": "code",
   "execution_count": null,
   "metadata": {
    "collapsed": false
   },
   "outputs": [],
   "source": [
    "from sklearn import linear_model\n",
    "from sklearn.metrics import mean_absolute_error\n",
    "from sklearn.cross_validation import cross_val_score, cross_val_predict\n",
    "\n",
    "regression_model = linear_model.Ridge(normalize=False)\n",
    "cv_scores = cross_val_score(regression_model, X, y, cv=5, n_jobs=4, scoring='mean_absolute_error')\n",
    "\n",
    "print(\"CV scores:\")\n",
    "print(\"min: {:.3f}, mean: {:.3f}, max: {:.3f}\".format(\n",
    "    cv_scores.min(), cv_scores.mean(), cv_scores.max()))\n",
    "\n",
    "y_predicted = cross_val_predict(regression_model, X, y, cv=5, n_jobs=4)\n",
    "pred_real_scatter(y, y_predicted)"
   ]
  },
  {
   "cell_type": "markdown",
   "metadata": {},
   "source": [
    "### with GS"
   ]
  },
  {
   "cell_type": "code",
   "execution_count": null,
   "metadata": {
    "collapsed": false
   },
   "outputs": [],
   "source": [
    "%%time\n",
    "\n",
    "from sklearn.grid_search import GridSearchCV\n",
    "\n",
    "regression_model = linear_model.Ridge()\n",
    "params = {\n",
    "    #'solver' : ['auto', 'svd', 'cholesky', 'lsqr', 'sparse_cg']\n",
    "    'normalize': [True, False]\n",
    "}\n",
    "\n",
    "gs = GridSearchCV(regression_model, params, cv=5, scoring='mean_absolute_error', n_jobs=4)\n",
    "gs.fit(X, y)"
   ]
  },
  {
   "cell_type": "code",
   "execution_count": null,
   "metadata": {
    "collapsed": false
   },
   "outputs": [],
   "source": [
    "sorted(gs.grid_scores_, key=lambda x: x.mean_validation_score, reverse=True)"
   ]
  },
  {
   "cell_type": "code",
   "execution_count": null,
   "metadata": {
    "collapsed": true
   },
   "outputs": [],
   "source": [
    "linear_model.Ridge?\n"
   ]
  },
  {
   "cell_type": "markdown",
   "metadata": {},
   "source": [
    "## USE GS"
   ]
  },
  {
   "cell_type": "code",
   "execution_count": null,
   "metadata": {
    "collapsed": false
   },
   "outputs": [],
   "source": [
    "%%time\n",
    "\n",
    "from sklearn.grid_search import GridSearchCV\n",
    "\n",
    "regression_model = SVR(kernel='linear')\n",
    "\n",
    "params = {\n",
    "    'C': [.1,1,10,100]\n",
    "}\n",
    "gs = GridSearchCV(regression_model, params, cv=5, scoring='mean_absolute_error', n_jobs=4)\n",
    "gs.fit(X, y)\n"
   ]
  },
  {
   "cell_type": "code",
   "execution_count": null,
   "metadata": {
    "collapsed": false
   },
   "outputs": [],
   "source": [
    "sorted(gs.grid_scores_, key=lambda x: x.mean_validation_score, reverse=True)"
   ]
  },
  {
   "cell_type": "markdown",
   "metadata": {
    "collapsed": true
   },
   "source": [
    "##GradientBoostingRegressor"
   ]
  },
  {
   "cell_type": "code",
   "execution_count": null,
   "metadata": {
    "collapsed": false
   },
   "outputs": [],
   "source": [
    "%%time\n",
    "from sklearn.ensemble import GradientBoostingRegressor\n",
    "from sklearn.metrics import mean_absolute_error\n",
    "from sklearn.cross_validation import cross_val_score, cross_val_predict\n",
    "\n",
    "regression_model = GradientBoostingRegressor()\n",
    "cv_scores = cross_val_score(regression_model, X, y, cv=5, n_jobs=4, scoring='mean_absolute_error')\n",
    "\n",
    "print(\"CV scores:\")\n",
    "print(\"min: {:.3f}, mean: {:.3f}, max: {:.3f}\".format(\n",
    "    cv_scores.min(), cv_scores.mean(), cv_scores.max()))\n",
    "\n",
    "y_predicted = cross_val_predict(regression_model, X, y, cv=5, n_jobs=4)\n",
    "pred_real_scatter(y, y_predicted)"
   ]
  },
  {
   "cell_type": "markdown",
   "metadata": {
    "collapsed": true
   },
   "source": [
    "## LASSO"
   ]
  },
  {
   "cell_type": "code",
   "execution_count": null,
   "metadata": {
    "collapsed": false
   },
   "outputs": [],
   "source": [
    "%%time\n",
    "from sklearn.linear_model import Lasso\n",
    "from sklearn.metrics import mean_absolute_error\n",
    "from sklearn.cross_validation import cross_val_score, cross_val_predict\n",
    "\n",
    "regression_model = Lasso()\n",
    "cv_scores = cross_val_score(regression_model, X, y, cv=2, n_jobs=4, scoring='r2')\n",
    "\n",
    "print(\"CV scores:\")\n",
    "print(\"min: {:.3f}, mean: {:.3f}, max: {:.3f}\".format(\n",
    "    cv_scores.min(), cv_scores.mean(), cv_scores.max()))\n",
    "\n",
    "y_predicted = cross_val_predict(regression_model, X, y, cv=5, n_jobs=4)\n",
    "pred_real_scatter(y, y_predicted)"
   ]
  },
  {
   "cell_type": "code",
   "execution_count": null,
   "metadata": {
    "collapsed": false
   },
   "outputs": [],
   "source": [
    "regression_model"
   ]
  },
  {
   "cell_type": "markdown",
   "metadata": {
    "collapsed": true
   },
   "source": [
    "# RFEVC"
   ]
  },
  {
   "cell_type": "code",
   "execution_count": null,
   "metadata": {
    "collapsed": false
   },
   "outputs": [],
   "source": [
    "%%time\n",
    "from sklearn.feature_selection import RFECV\n",
    "\n",
    "regression_model = SVR(kernel='linear')\n",
    "rfecv = RFECV(estimator=regression_model, step=25000, cv=5, scoring='r2')\n",
    "\n",
    "rfecv.fit(X, y)\n"
   ]
  },
  {
   "cell_type": "code",
   "execution_count": null,
   "metadata": {
    "collapsed": false
   },
   "outputs": [],
   "source": [
    "print(\"Optimal number of features : %d\" % rfecv.n_features_)\n",
    "plt.xlabel(\"Number of features selected\")\n",
    "plt.ylabel(\"Cross validation score (nb of correct classifications)\")\n",
    "plt.plot(range(1, len(rfecv.grid_scores_) + 1), rfecv.grid_scores_)"
   ]
  },
  {
   "cell_type": "code",
   "execution_count": null,
   "metadata": {
    "collapsed": false
   },
   "outputs": [],
   "source": [
    "rfecv.support_"
   ]
  },
  {
   "cell_type": "code",
   "execution_count": null,
   "metadata": {
    "collapsed": true
   },
   "outputs": [],
   "source": []
  },
  {
   "cell_type": "code",
   "execution_count": null,
   "metadata": {
    "collapsed": true
   },
   "outputs": [],
   "source": []
  },
  {
   "cell_type": "markdown",
   "metadata": {},
   "source": [
    "## use split"
   ]
  },
  {
   "cell_type": "code",
   "execution_count": null,
   "metadata": {
    "collapsed": false
   },
   "outputs": [],
   "source": [
    "from sklearn.svm import SVR\n",
    "from sklearn.metrics import mean_absolute_error, r2_score\n",
    "from sklearn.cross_validation import train_test_split\n",
    "\n",
    "X_train, X_test, y_train, y_test = train_test_split(X, y, test_size=0.2, random_state=0)\n",
    "\n",
    "regression_model = SVR(kernel='linear')\n",
    "regression_model.fit(X_train,y_train)\n",
    "y_test_predicted = regression_model.predict(X_test)\n",
    "mae = mean_absolute_error(y_test, y_test_predicted)\n",
    "r2 = r2_score(y_test, y_test_predicted)\n",
    "\n",
    "print mae\n",
    "print r2\n",
    "pred_real_scatter(y_test, y_test_predicted)"
   ]
  },
  {
   "cell_type": "code",
   "execution_count": null,
   "metadata": {
    "collapsed": false
   },
   "outputs": [],
   "source": [
    "regression_model.coef_.shape\n"
   ]
  },
  {
   "cell_type": "markdown",
   "metadata": {},
   "source": [
    "## output coeff nii"
   ]
  },
  {
   "cell_type": "code",
   "execution_count": null,
   "metadata": {
    "collapsed": false
   },
   "outputs": [],
   "source": [
    "n_imgs = regression_model.coef_.shape[1] / brain_data_list[0].shape[1]\n",
    "out_list = np.hsplit(regression_model.coef_, n_imgs)\n",
    "for i, out_data in enumerate(out_list):\n",
    "    coef_img = masker.inverse_transform(out_data)\n",
    "    coef_img.to_filename('/Users/franzliem/Dropbox/LeiCA/00_learning_test/split_coeff_%s.nii.gz'%i)\n",
    "    "
   ]
  },
  {
   "cell_type": "code",
   "execution_count": null,
   "metadata": {
    "collapsed": false
   },
   "outputs": [],
   "source": [
    "type(out)\n"
   ]
  },
  {
   "cell_type": "code",
   "execution_count": null,
   "metadata": {
    "collapsed": true
   },
   "outputs": [],
   "source": []
  }
 ],
 "metadata": {
  "kernelspec": {
   "display_name": "Python 2",
   "language": "python",
   "name": "python2"
  },
  "language_info": {
   "codemirror_mode": {
    "name": "ipython",
    "version": 2
   },
   "file_extension": ".py",
   "mimetype": "text/x-python",
   "name": "python",
   "nbconvert_exporter": "python",
   "pygments_lexer": "ipython2",
   "version": "2.7.3"
  }
 },
 "nbformat": 4,
 "nbformat_minor": 0
}
