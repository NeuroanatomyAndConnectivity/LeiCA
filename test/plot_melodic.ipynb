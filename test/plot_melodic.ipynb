{
 "cells": [
  {
   "cell_type": "code",
   "execution_count": 1,
   "metadata": {},
   "outputs": [
    {
     "name": "stdout",
     "output_type": "stream",
     "text": [
      "Populating the interactive namespace from numpy and matplotlib\n",
      "working on MBP13\n"
     ]
    }
   ],
   "source": [
    "%pylab inline\n",
    "import pandas as pd\n",
    "import numpy as np\n",
    "from scipy import stats\n",
    "import variables\n",
    "#import matplotlib as mpl\n",
    "#import matplotlib.pyplot as plt\n",
    "import seaborn as sns"
   ]
  },
  {
   "cell_type": "markdown",
   "metadata": {},
   "source": [
    "## aroma funcs"
   ]
  },
  {
   "cell_type": "code",
   "execution_count": 4,
   "metadata": {},
   "outputs": [
    {
     "name": "stderr",
     "output_type": "stream",
     "text": [
      "/usr/local/lib/python2.7/site-packages/pandas/io/parsers.py:644: ParserWarning: Falling back to the 'python' engine because the 'c' engine does not support regex separators; you can avoid this warning by specifying engine='python'.\n",
      "  ParserWarning)\n"
     ]
    }
   ],
   "source": [
    "# import aroma output and cleanup format\n",
    "subject = '0183726'\n",
    "df = pd.read_table('/Users/franzliem/Desktop/test_data/wd/ds/rsfMRI_preproc_wf/aroma/_TR_id_645/0183726/_fwhm_0/run_aroma/classification_overview.txt', \n",
    "                  delimiter=\"\\s\", \n",
    "                skiprows=1, \n",
    "                names=['IC', 'is_motion', 'junk', 'max_rp_corr', 'junk', 'junk', 'edge_fract', 'junk', 'junk', 'hf_content', 'junk', 'junk', 'csf_fract'])\n",
    "df = df.drop('junk',1)"
   ]
  },
  {
   "cell_type": "code",
   "execution_count": 5,
   "metadata": {},
   "outputs": [
    {
     "data": {
      "text/html": [
       "<div style=\"max-height:1000px;max-width:1500px;overflow:auto;\">\n",
       "<table border=\"1\" class=\"dataframe\">\n",
       "  <thead>\n",
       "    <tr style=\"text-align: right;\">\n",
       "      <th></th>\n",
       "      <th>subject</th>\n",
       "      <th>n_ic</th>\n",
       "      <th>n_clean</th>\n",
       "      <th>n_motion</th>\n",
       "    </tr>\n",
       "  </thead>\n",
       "  <tbody>\n",
       "    <tr>\n",
       "      <th>0</th>\n",
       "      <td>0183726</td>\n",
       "      <td>102</td>\n",
       "      <td>40</td>\n",
       "      <td>62</td>\n",
       "    </tr>\n",
       "  </tbody>\n",
       "</table>\n",
       "</div>"
      ]
     },
     "output_type": "execute_result",
     "metadata": {}
    },
    {
     "data": {
      "image/png": "[encoded data removed]"
     },
     "output_type": "display_data",
     "metadata": {}
    }
   ],
   "source": [
    "# mean and sd separaded by group\n",
    "ic_class = df.groupby('is_motion')\n",
    "ic_class_mean = ic_class.aggregate(np.mean)\n",
    "ic_class_sd = ic_class.aggregate(np.std)\n",
    "\n",
    "ic_class.max_rp_corr.plot(kind='density',  legend=True, title='max_rp_corr')\n",
    "ic_class_mean\n",
    "\n",
    "ic_class_count = df.groupby('is_motion').count()\n",
    "n_ic = df.IC.max()\n",
    "n_motion = ic_class_count.IC[True]\n",
    "n_clean = ic_class_count.IC[False]\n",
    "df_out = pd.DataFrame([[subject, n_ic, n_clean, n_motion]], columns=['subject', 'n_ic', 'n_clean', 'n_motion'])\n",
    "df_out"
   ]
  },
  {
   "cell_type": "code",
   "execution_count": 6,
   "metadata": {},
   "outputs": [
    {
     "name": "stdout",
     "output_type": "stream",
     "text": [
      "<pandas.core.groupby.SeriesGroupBy object at 0x1134ece10>\n"
     ]
    }
   ],
   "source": [
    "print ic_class['max_rp_corr']\n",
    "#(df['max_rp_corr'])"
   ]
  },
  {
   "cell_type": "code",
   "execution_count": 7,
   "metadata": {},
   "outputs": [
    {
     "data": {
      "text/plain": [
       "<matplotlib.axes._subplots.AxesSubplot at 0x113578690>"
      ]
     },
     "execution_count": 7,
     "output_type": "execute_result",
     "metadata": {}
    },
    {
     "data": {
      "image/png": "[encoded data removed]"
     },
     "output_type": "display_data",
     "metadata": {}
    }
   ],
   "source": [
    "ic_class_count.IC.plot(kind='bar')"
   ]
  },
  {
   "cell_type": "code",
   "metadata": {},
   "outputs": [],
   "source": [
    ""
   ]
  },
  {
   "cell_type": "code",
   "metadata": {},
   "outputs": [],
   "source": [
    ""
   ]
  },
  {
   "cell_type": "code",
   "metadata": {},
   "outputs": [],
   "source": [
    ""
   ]
  }
 ],
 "metadata": {
  "kernelspec": {
   "display_name": "Python 2",
   "language": "python",
   "name": "python2"
  },
  "language_info": {
   "codemirror_mode": {
    "name": "ipython",
    "version": 2.0
   },
   "file_extension": ".py",
   "mimetype": "text/x-python",
   "name": "python",
   "nbconvert_exporter": "python",
   "pygments_lexer": "ipython2",
   "version": "2.7.8"
  }
 },
 "nbformat": 4,
 "nbformat_minor": 0
}