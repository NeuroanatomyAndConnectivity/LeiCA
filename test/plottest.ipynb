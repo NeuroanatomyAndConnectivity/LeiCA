{
 "worksheets": [
  {
   "cells": [
    {
     "cell_type": "code",
     "metadata": {},
     "outputs": [
      {
       "output_type": "stream",
       "stream": "stdout",
       "text": [
        "Populating the interactive namespace from numpy and matplotlib\n",
        " "
       ]
      },
      {
       "output_type": "stream",
       "stream": "stdout",
       "text": [
        "\n",
        "/Users/franzliem/Desktop/test_data/wd/LeiCA_resting/sca/_TR_id_1400/_subject_id_0103384/_roi_-6.52.-2/_fwhm_1/correlation_map/corr_map.nii.gz\n",
        "mri_vol2surf --mov /Users/franzliem/Desktop/test_data/wd/LeiCA_resting/sca/_TR_id_1400/_subject_id_0103384/_roi_-6.52.-2/_fwhm_1/correlation_map/corr_map.nii.gz --hemi lh --surf white --reg /Applications/freesurfer/average/mni152.register.dat --projfrac-avg 0 1 0.1 --surf-fwhm 3 --o /var/folders/08/f7_6sk_s51dgf29jq7x9_gbm0000gp/T/pysurfer-v2sy6JvaJ.mgz\n"
       ]
      },
      {
       "output_type": "stream",
       "stream": "stderr",
       "text": [
        "INFO:surfer:mri_vol2surf --mov /Users/franzliem/Desktop/test_data/wd/LeiCA_resting/sca/_TR_id_1400/_subject_id_0103384/_roi_-6.52.-2/_fwhm_1/correlation_map/corr_map.nii.gz --hemi lh --surf white --reg /Applications/freesurfer/average/mni152.register.dat --projfrac-avg 0 1 0.1 --surf-fwhm 3 --o /var/folders/08/f7_6sk_s51dgf29jq7x9_gbm0000gp/T/pysurfer-v2sy6JvaJ.mgz\n"
       ]
      },
      {
       "output_type": "stream",
       "stream": "stdout",
       "text": [
        "mri_vol2surf --mov /Users/franzliem/Desktop/test_data/wd/LeiCA_resting/sca/_TR_id_1400/_subject_id_0103384/_roi_-6.52.-2/_fwhm_1/correlation_map/corr_map.nii.gz --hemi rh --surf white --reg /Applications/freesurfer/average/mni152.register.dat --projfrac-avg 0 1 0.1 --surf-fwhm 3 --o /var/folders/08/f7_6sk_s51dgf29jq7x9_gbm0000gp/T/pysurfer-v2sDtWkmb.mgz\n"
       ]
      },
      {
       "output_type": "stream",
       "stream": "stderr",
       "text": [
        "INFO:surfer:mri_vol2surf --mov /Users/franzliem/Desktop/test_data/wd/LeiCA_resting/sca/_TR_id_1400/_subject_id_0103384/_roi_-6.52.-2/_fwhm_1/correlation_map/corr_map.nii.gz --hemi rh --surf white --reg /Applications/freesurfer/average/mni152.register.dat --projfrac-avg 0 1 0.1 --surf-fwhm 3 --o /var/folders/08/f7_6sk_s51dgf29jq7x9_gbm0000gp/T/pysurfer-v2sDtWkmb.mgz\n"
       ]
      },
      {
       "output_type": "stream",
       "stream": "stdout",
       "text": [
        "XXXXX XXXXX XXXX \n",
        "(-6, 52, -2)\n",
        "lh\n"
       ]
      }
     ],
     "input": [
      "import os\n",
      "import sys\n",
      "from variables import working_dir, rois, TR_list\n",
      "\n",
      "fwhm_list = [1]\n",
      "thr_list = [.2]\n",
      "fig_dir = '/Users/franzliem/Desktop/test_data/figs/raw'\n",
      "\n",
      "os.environ['FREESURFER_HOME'] = '/Applications/freesurfer/'\n",
      "os.environ['SUBJECTS_DIR'] = '/Applications/freesurfer/subjects'\n",
      "\n",
      "from surfer import Brain, io\n",
      "%pylab inline\n",
      "%matplotlib inline\n",
      "\n",
      "\"\"\"Bring up the visualization\"\"\"\n",
      "brain = Brain(\"fsaverage\", \"split\", \"inflated\", views=['lat', 'med'], config_opts=dict(background=\"white\"))\n",
      "\n",
      "\"\"\"Project the volume file and return as an array\"\"\"\n",
      "reg_file = os.path.join(os.environ[\"FREESURFER_HOME\"],\"average/mni152.register.dat\")\n",
      "TR = TR_list[0]\n",
      "roi = rois[0]\n",
      "fwhm = fwhm_list[0]\n",
      "thr = thr_list[0]\n",
      "\n",
      "\n",
      "brain = Brain(\"fsaverage\", \"split\", \"inflated\", views=['lat', 'med'], config_opts=dict(background=\"white\"))\n",
      "\n",
      "mri_file = os.path.join(working_dir, 'LeiCA_resting/sca/','_TR_id_%s'%TR, '_subject_id_0103384',\n",
      " '_roi_%s.%s.%s'%(roi[0],roi[1],roi[2]), '_fwhm_%s'%fwhm, 'correlation_map/corr_map.nii.gz')\n",
      "print ' '\n",
      "print mri_file\n",
      "\n",
      "surf_data_lh = io.project_volume_data(mri_file, \"lh\", reg_file)\n",
      "surf_data_rh = io.project_volume_data(mri_file, \"rh\", reg_file)\n",
      "\n",
      "\"\"\"\n",
      "You can pass this array to the add_overlay method for a typical activation\n",
      "overlay (with thresholding, etc.).\n",
      "\"\"\"\n",
      "brain.add_overlay(surf_data_lh, min=thr, max=.7, name=\"ang_corr_lh\", hemi='lh')\n",
      "brain.add_overlay(surf_data_rh, min=thr, max=.7, name=\"ang_corr_rh\", hemi='rh')\n",
      "\n",
      "if roi[0] <0: #lh\n",
      "    hemi_str = 'lh'\n",
      "else:\n",
      "    hemi_str = 'rh'\n",
      "print 'XXXXX XXXXX XXXX '\n",
      "print(roi)\n",
      "print hemi_str\n",
      "brain.add_foci(roi, map_surface=\"white\", hemi=hemi_str, color='red', scale_factor=2)\n",
      "\n",
      "\n",
      "out_filename = os.path.join(fig_dir, 'test_TR_%s_%s.%s.%s_fwhm%s_thr%s.png'%(TR, roi[0],roi[1],roi[2], fwhm, thr))\n",
      "#brain.save_image(out_filename)\n",
      "#brain.close()"
     ],
     "language": "python",
     "prompt_number": 23
    },
    {
     "cell_type": "code",
     "metadata": {},
     "outputs": [
      {
       "output_type": "pyout",
       "prompt_number": 14,
       "text": [
        "'/Users/franzliem/Desktop/test_data/wd/LeiCA_resting/sca/_TR_id_1/_subject_id_0103384/_roi_-6.52.-2/_fwhm_1/correlation_map/corr_map.nii.gz'"
       ],
       "metadata": {}
      }
     ],
     "input": [
      "mri_file"
     ],
     "language": "python",
     "prompt_number": 14
    },
    {
     "cell_type": "code",
     "metadata": {},
     "outputs": [],
     "input": [
      "from variables import working_dir, rois, TR_list"
     ],
     "language": "python",
     "prompt_number": 16
    },
    {
     "cell_type": "code",
     "metadata": {},
     "outputs": [
      {
       "output_type": "pyout",
       "prompt_number": 6,
       "text": [
        "[(-6, 52, -2),\n",
        " (6, 52, -2),\n",
        " (-8, -56, 26),\n",
        " (8, -56, 26),\n",
        " (38, 22, -10),\n",
        " (-1, 49, -2),\n",
        " (-5, -49, 40)]"
       ],
       "metadata": {}
      }
     ],
     "input": [
      "rois"
     ],
     "language": "python",
     "prompt_number": 6
    },
    {
     "cell_type": "code",
     "metadata": {},
     "outputs": [],
     "input": [
      "roi=rois[0]"
     ],
     "language": "python",
     "prompt_number": 7
    },
    {
     "cell_type": "code",
     "metadata": {},
     "outputs": [
      {
       "output_type": "pyout",
       "prompt_number": 8,
       "text": [
        "(-6, 52, -2)"
       ],
       "metadata": {}
      }
     ],
     "input": [
      "roi"
     ],
     "language": "python",
     "prompt_number": 8
    },
    {
     "cell_type": "code",
     "metadata": {},
     "outputs": [
      {
       "output_type": "pyout",
       "prompt_number": 18,
       "text": [
        "'1400'"
       ],
       "metadata": {}
      }
     ],
     "input": [
      "TR_list[0]"
     ],
     "language": "python",
     "prompt_number": 18
    },
    {
     "cell_type": "code",
     "metadata": {},
     "outputs": [],
     "input": [
      ""
     ],
     "language": "python"
    }
   ]
  }
 ],
 "cells": [],
 "metadata": {
  "name": "",
  "signature": "sha256:4798cde3fb561bf1ea883bf522fef4e41dc198a674abf6dced9bda369be8790e"
 },
 "nbformat": 3,
 "nbformat_minor": 0
}