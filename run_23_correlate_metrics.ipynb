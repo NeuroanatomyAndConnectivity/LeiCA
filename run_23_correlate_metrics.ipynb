{
 "cells": [
  {
   "cell_type": "code",
   "execution_count": 1,
   "metadata": {},
   "outputs": [
    {
     "name": "stderr",
     "output_type": "stream",
     "text": [
      ":0: FutureWarning: IPython widgets are experimental and may change in the future.\n"
     ]
    }
   ],
   "source": [
    "#inspired by\n",
    "#https://github.com/ohbm/brain-hacking-101/blob/master/beginner-python/004-interactions.ipynb\n",
    "import numpy as np\n",
    "import nibabel as nib\n",
    "import matplotlib as mpl\n",
    "import matplotlib.pyplot as plt\n",
    "%matplotlib inline\n",
    "#mpl.style.use('bmh')\n",
    "import scipy.signal as sps\n",
    "import IPython.html.widgets as widgets\n",
    "import IPython.display as display\n",
    "import pandas as pd\n",
    "import os"
   ]
  },
  {
   "cell_type": "code",
   "execution_count": 5,
   "metadata": {},
   "outputs": [],
   "source": [
    "raw1_name = 'alff'\n",
    "raw2_name = 'alff'\n",
    "\n",
    "img_brain_template=nib.load('/home/raid2/liem/Dropbox/Workspace/LeiCA/anat_templates/MNI152_T1_3mm_brain.nii.gz')\n",
    "img_stat = nib.load('/scr/adenauer2/Franz/LeiCA_NKI/wd_metrics/group_metric_residuals_test/'+raw1_name+'/LeiCA_collect_metrics/run_randomise/glm' +\n",
    "                   '/glm_tfce_corrp_tstat6.nii.gz')\n",
    "#img_raw1 = nib.load('/scr/adenauer2/Franz/LeiCA_NKI/wd_metrics/group_metric_residuals_test/'+raw1_name+'/LeiCA_collect_metrics/merge' +\n",
    "#                    '/'+raw1_name+'_merge.nii.gz')\n",
    "#img_raw2 = nib.load('/scr/adenauer2/Franz/LeiCA_NKI/wd_metrics/group_metric_residuals_test/'+raw2_name+'/LeiCA_collect_metrics/merge' +\n",
    "#                    '/'+raw2_name+'_merge.nii.gz')\n",
    "img_raw1 = nib.load('/scr/adenauer2/Franz/LeiCA_NKI/wd_metrics/group_metric_residuals_test/'+raw1_name+\n",
    "                    '/LeiCA_collect_metrics/write_res_nii/data_4d.nii.gz')\n",
    "img_raw2 = img_raw1\n",
    "\n",
    "df=pd.read_csv('/scr/adenauer2/Franz/LeiCA_NKI/wd_metrics/group_metric_residuals_test/reho/LeiCA_collect_metrics/create_design_files/df_used.csv')\n",
    "\n",
    "\n",
    "data_brain_template=img_brain_template.get_data()\n",
    "data_stat = img_stat.get_data()\n",
    "data_raw1 = img_raw1.get_data()\n",
    "data_raw2 = img_raw2.get_data()\n",
    "\n",
    "fig_path='/home/raid2/liem/Dropbox/LeiCa/standardization_figs'\n",
    "\n",
    "\n",
    "#threshold stat\n",
    "threshold=0.95\n",
    "data_stat[data_stat<threshold] = 0\n",
    "data_stat[data_stat==0]=np.nan\n",
    "data_render = data_brain_template#+data_stat"
   ]
  },
  {
   "cell_type": "code",
   "execution_count": 6,
   "metadata": {},
   "outputs": [],
   "source": [
    "import numpy.linalg as npl\n",
    "def mm_2_vox(img, coords):\n",
    "    #coords = (x,y,z)\n",
    "    return nib.affines.apply_affine(npl.inv(img.get_affine()), coords)\n",
    "def vox_2_mm(img, coords):\n",
    "    return nib.affines.apply_affine(img.get_affine(), coords)"
   ]
  },
  {
   "cell_type": "code",
   "execution_count": 7,
   "metadata": {},
   "outputs": [],
   "source": [
    "def residualize(sx,sy,sz):\n",
    "    '''\n",
    "    residualizes sz from sx and sy and returns sx_res and sy_res\n",
    "    https://gist.github.com/fabianp/9396204419c7b638d38f\n",
    "    '''\n",
    "    import numpy as np\n",
    "    from scipy import stats, linalg\n",
    "    sx_2d,sy_2d,sz_2d=(np.atleast_2d(sx),np.atleast_2d(sy),np.atleast_2d(sz))\n",
    "    beta_x = linalg.lstsq(sz_2d,sx_2d)[0]\n",
    "    beta_y = linalg.lstsq(sz_2d,sy_2d)[0]\n",
    "\n",
    "    sx_res = sx_2d - sz_2d.dot(beta_x)\n",
    "    sy_res = sy_2d - sz_2d.dot(beta_y)\n",
    "    return (np.squeeze(sx_res), np.squeeze(sy_res))"
   ]
  },
  {
   "cell_type": "code",
   "execution_count": 8,
   "metadata": {},
   "outputs": [],
   "source": [
    "def plot_3d_data(x=data_stat.shape[0]/2, y=data_stat.shape[1]/2, z=data_stat.shape[2]/2):  \n",
    "    max_coords = data_stat.shape\n",
    "    fig, axes = plt.subplots(3, 2)\n",
    "    plt.tight_layout()\n",
    "    ax = axes[0, 0]\n",
    "    ax.axis('off')\n",
    "    ax.matshow(data_brain_template[:, :, z], cmap=mpl.cm.Greys_r)\n",
    "    ax.matshow(data_stat[:, :, z], cmap=mpl.cm.Reds, alpha=.3)\n",
    "    ax.plot([0,max_coords[1]],[x,x],'r')\n",
    "    ax.plot([y,y],[0,max_coords[0]],'r')\n",
    "    ax.text(0,-10,'mni'+str((vox_2_mm(img_brain_template, (x,y,z))))+'\\n'+str((x,y,z)))\n",
    "    \n",
    "    ax = axes[0, 1]\n",
    "    ax.axis('off')\n",
    "    ax.matshow(np.rot90(data_brain_template[:, y, :]), cmap=mpl.cm.Greys_r)\n",
    "    ax.matshow(np.rot90(data_stat[:, y, :,]), cmap=mpl.cm.Reds, alpha=.3)\n",
    "    ax.plot([0,max_coords[0]],[z,z],'r')\n",
    "    ax.plot([x,x],[0,max_coords[2]],'r')\n",
    "    \n",
    "    ax = axes[1, 0]\n",
    "    ax.axis('off')\n",
    "    ax.matshow(np.rot90(data_brain_template[x, :, :]), cmap=mpl.cm.Greys_r)\n",
    "    ax.matshow(np.rot90(data_stat[x, :, :]), cmap=mpl.cm.Reds, alpha=.3)\n",
    "    ax.plot([0,max_coords[1]],[z,z],'r')\n",
    "    ax.plot([y,y],[0,max_coords[2]],'r')\n",
    "    \n",
    "    ax = axes[1, 1]\n",
    "    sx=data_raw1[x, y, z, :]\n",
    "    sy=data_raw2[x, y, z, :]\n",
    "    ax.scatter(sx,sy)\n",
    "    ax.set_xlabel(raw1_name + '\\nr=' + str(np.corrcoef(sx,sy)[1,0]))\n",
    "    ax.set_ylabel(raw2_name)\n",
    "    fig.set_size_inches(10, 10)\n",
    "    \n",
    "    ax = axes[2, 0]\n",
    "    sx=df.age\n",
    "    sy=data_raw1[x, y, z, :]\n",
    "    ax.scatter(sx, sy)\n",
    "    ax.set_xlabel('age' + '\\nr=' + str(np.corrcoef(sx,sy)[1,0]))\n",
    "    ax.set_ylabel(raw1_name)    \n",
    "    fig.set_size_inches(5, 5)\n",
    "    m,b = np.polyfit(sx, sy, 1) \n",
    "    ax.plot(sx, m*sx+b, '--k')\n",
    "    \n",
    "    ax = axes[2, 1]\n",
    "    sx=df.mean_FD_Power\n",
    "    sy=data_raw1[x, y, z, :]\n",
    "    ax.scatter(sx, sy)\n",
    "    ax.set_xlabel('mean_FD_Power' + '\\nr=' + str(np.corrcoef(sx,sy)[1,0]))\n",
    "    ax.set_ylabel(raw1_name)    \n",
    "    fig.set_size_inches(5, 5)\n",
    "    m,b = np.polyfit(sx, sy, 1) \n",
    "    ax.plot(sx, m*sx+b, '--k')\n",
    "    \n",
    "    \n",
    "    global global_dict\n",
    "    global_dict={'fig': fig, 'coords':(x,y,z)}\n",
    "    \n",
    "    return fig"
   ]
  },
  {
   "cell_type": "code",
   "execution_count": 6,
   "metadata": {},
   "outputs": [
    {
     "ename": "NameError",
     "evalue": "name 'axes' is not defined",
     "output_type": "error",
     "traceback": [
      "\u001b[1;31m---------------------------------------------------------------------------\u001b[0m",
      "\u001b[1;31mNameError\u001b[0m                                 Traceback (most recent call last)",
      "\u001b[1;32m<ipython-input-6-3e9f69e71ee9>\u001b[0m in \u001b[0;36m<module>\u001b[1;34m()\u001b[0m\n\u001b[1;32m----> 1\u001b[1;33m \u001b[0max\u001b[0m \u001b[1;33m=\u001b[0m \u001b[0maxes\u001b[0m\u001b[1;33m[\u001b[0m\u001b[1;36m3\u001b[0m\u001b[1;33m,\u001b[0m \u001b[1;36m0\u001b[0m\u001b[1;33m]\u001b[0m\u001b[1;33m\u001b[0m\u001b[0m\n\u001b[0m\u001b[0;32m      2\u001b[0m \u001b[0msx\u001b[0m\u001b[1;33m=\u001b[0m\u001b[0mdf\u001b[0m\u001b[1;33m.\u001b[0m\u001b[0mage\u001b[0m\u001b[1;33m\u001b[0m\u001b[0m\n\u001b[0;32m      3\u001b[0m \u001b[0msy\u001b[0m\u001b[1;33m=\u001b[0m\u001b[0mdata_raw2\u001b[0m\u001b[1;33m[\u001b[0m\u001b[0mx\u001b[0m\u001b[1;33m,\u001b[0m \u001b[0my\u001b[0m\u001b[1;33m,\u001b[0m \u001b[0mz\u001b[0m\u001b[1;33m,\u001b[0m \u001b[1;33m:\u001b[0m\u001b[1;33m]\u001b[0m\u001b[1;33m\u001b[0m\u001b[0m\n\u001b[0;32m      4\u001b[0m \u001b[0max\u001b[0m\u001b[1;33m.\u001b[0m\u001b[0mscatter\u001b[0m\u001b[1;33m(\u001b[0m\u001b[0msx\u001b[0m\u001b[1;33m,\u001b[0m \u001b[0msy\u001b[0m\u001b[1;33m)\u001b[0m\u001b[1;33m\u001b[0m\u001b[0m\n\u001b[0;32m      5\u001b[0m \u001b[0max\u001b[0m\u001b[1;33m.\u001b[0m\u001b[0mset_xlabel\u001b[0m\u001b[1;33m(\u001b[0m\u001b[1;34m'age'\u001b[0m \u001b[1;33m+\u001b[0m \u001b[1;34m'\\nr='\u001b[0m \u001b[1;33m+\u001b[0m \u001b[0mstr\u001b[0m\u001b[1;33m(\u001b[0m\u001b[0mnp\u001b[0m\u001b[1;33m.\u001b[0m\u001b[0mcorrcoef\u001b[0m\u001b[1;33m(\u001b[0m\u001b[0msx\u001b[0m\u001b[1;33m,\u001b[0m\u001b[0msy\u001b[0m\u001b[1;33m)\u001b[0m\u001b[1;33m[\u001b[0m\u001b[1;36m1\u001b[0m\u001b[1;33m,\u001b[0m\u001b[1;36m0\u001b[0m\u001b[1;33m]\u001b[0m\u001b[1;33m)\u001b[0m\u001b[1;33m)\u001b[0m\u001b[1;33m\u001b[0m\u001b[0m\n",
      "\u001b[1;31mNameError\u001b[0m: name 'axes' is not defined"
     ]
    }
   ],
   "source": [
    "ax = axes[3, 0]\n",
    "    sx=df.age\n",
    "    sy=data_raw2[x, y, z, :]\n",
    "    ax.scatter(sx, sy)\n",
    "    ax.set_xlabel('age' + '\\nr=' + str(np.corrcoef(sx,sy)[1,0]))\n",
    "    ax.set_ylabel(raw2_name)    \n",
    "    fig.set_size_inches(10, 100)\n",
    "    m,b = np.polyfit(sx, sy, 1) \n",
    "    ax.plot(sx, m*sx+b, '--k')\n",
    "    \n",
    "    ax = axes[3, 1]\n",
    "    sx=df.mean_FD_Power\n",
    "    sy=data_raw2[x, y, z, :]\n",
    "    ax.scatter(sx, sy)\n",
    "    ax.set_xlabel('mean_FD_Power' + '\\nr=' + str(np.corrcoef(sx,sy)[1,0]))\n",
    "    ax.set_ylabel(raw2_name)    \n",
    "    fig.set_size_inches(10, 8)\n",
    "    m,b = np.polyfit(sx, sy, 1) \n",
    "    ax.plot(sx, m*sx+b, '--k')"
   ]
  },
  {
   "cell_type": "code",
   "execution_count": 9,
   "metadata": {},
   "outputs": [
    {
     "data": {
      "image/png": "[encoded data removed]"
     },
     "output_type": "display_data",
     "metadata": {}
    }
   ],
   "source": [
    "if 'pb_widget' in locals():\n",
    "    v=(pb_widget.children[0].value,pb_widget.children[1].value,pb_widget.children[2].value)\n",
    "else:\n",
    "    v=tuple(np.array(data_stat.shape)//2)\n",
    "pb_widget = widgets.interactive(plot_3d_data, \n",
    "                            x=widgets.IntSlider(min=0, max=data_stat.shape[0]-1, value=v[0]),\n",
    "                            y=widgets.IntSlider(min=0, max=data_stat.shape[1]-1, value=v[1]),\n",
    "                            z=widgets.IntSlider(min=0, max=data_stat.shape[2]-1, value=v[2])\n",
    "                            )\n",
    "display.display(pb_widget)\n",
    "\n",
    "\n",
    "\n",
    "def btn_fct(btn):\n",
    "    v=(pb_widget.children[0].value,pb_widget.children[1].value,pb_widget.children[2].value)\n",
    "    coords_str=str(vox_2_mm(img_brain_template,v))\n",
    "    print('save image' + str(vox_2_mm(img_brain_template,v)))\n",
    "    file_name=os.path.join(fig_path, raw1_name + '_' + raw2_name + coords_str + '.pdf' )\n",
    "    global_dict['fig'].savefig(file_name)\n",
    "    \n",
    "btn = widgets.Button(description=\"save\")\n",
    "btn.on_click(btn_fct)\n",
    "display.display(btn)"
   ]
  },
  {
   "cell_type": "code",
   "execution_count": 11,
   "metadata": {},
   "outputs": [
    {
     "data": {
      "text/plain": [
       "(0.089023563752383003, 0.15472856314512981)"
      ]
     },
     "execution_count": 11,
     "output_type": "execute_result",
     "metadata": {}
    }
   ],
   "source": [
    "from scipy.stats import pearsonr\n",
    "\n",
    "sx_=df.mean_FD_Power\n",
    "sy_=data_raw1[22,45,30, :]\n",
    "pearsonr(sx_,sy_)"
   ]
  },
  {
   "cell_type": "code",
   "execution_count": 18,
   "metadata": {},
   "outputs": [
    {
     "data": {
      "text/plain": [
       "array([  84., -117.,  -60.])"
      ]
     },
     "execution_count": 18,
     "output_type": "execute_result",
     "metadata": {}
    }
   ],
   "source": [
    "img_brain_template.get_affine()\n",
    "#vox_2_mm(img_brain_template, (2,3,4))\n",
    "nib.affines.apply_affine(img_brain_template.get_affine(), (2,3,4))"
   ]
  },
  {
   "cell_type": "code",
   "execution_count": 7,
   "metadata": {},
   "outputs": [
    {
     "ename": "NameError",
     "evalue": "name 'axes' is not defined",
     "output_type": "error",
     "traceback": [
      "\u001b[1;31m---------------------------------------------------------------------------\u001b[0m",
      "\u001b[1;31mNameError\u001b[0m                                 Traceback (most recent call last)",
      "\u001b[1;32m<ipython-input-7-4323c24346c2>\u001b[0m in \u001b[0;36m<module>\u001b[1;34m()\u001b[0m\n\u001b[0;32m      1\u001b[0m \u001b[1;33m\u001b[0m\u001b[0m\n\u001b[1;32m----> 2\u001b[1;33m \u001b[0max\u001b[0m \u001b[1;33m=\u001b[0m \u001b[0maxes\u001b[0m\u001b[1;33m[\u001b[0m\u001b[1;36m3\u001b[0m\u001b[1;33m,\u001b[0m \u001b[1;36m0\u001b[0m\u001b[1;33m]\u001b[0m\u001b[1;33m\u001b[0m\u001b[0m\n\u001b[0m\u001b[0;32m      3\u001b[0m \u001b[0msx\u001b[0m\u001b[1;33m=\u001b[0m\u001b[0mdf\u001b[0m\u001b[1;33m.\u001b[0m\u001b[0mage\u001b[0m\u001b[1;33m\u001b[0m\u001b[0m\n\u001b[0;32m      4\u001b[0m \u001b[0msy\u001b[0m\u001b[1;33m=\u001b[0m\u001b[0mdata_raw1\u001b[0m\u001b[1;33m[\u001b[0m\u001b[0mx\u001b[0m\u001b[1;33m,\u001b[0m \u001b[0my\u001b[0m\u001b[1;33m,\u001b[0m \u001b[0mz\u001b[0m\u001b[1;33m,\u001b[0m \u001b[1;33m:\u001b[0m\u001b[1;33m]\u001b[0m\u001b[1;33m\u001b[0m\u001b[0m\n\u001b[0;32m      5\u001b[0m \u001b[0msz\u001b[0m\u001b[1;33m=\u001b[0m\u001b[0mdf\u001b[0m\u001b[1;33m.\u001b[0m\u001b[0mmean_FD_Power\u001b[0m\u001b[1;33m\u001b[0m\u001b[0m\n",
      "\u001b[1;31mNameError\u001b[0m: name 'axes' is not defined"
     ]
    }
   ],
   "source": [
    "ax = axes[3, 0]\n",
    "    sx=df.age\n",
    "    sy=data_raw1[x, y, z, :]\n",
    "    sz=df.mean_FD_Power\n",
    "    sx, sy = residualize(sx,sy,sz)\n",
    "    ax.scatter(sx, sy)\n",
    "    ax.set_xlabel('age.FDres' + '\\nr=' + str(np.corrcoef(sx,sy)[1,0]))\n",
    "    ax.set_ylabel(raw1_name)    \n",
    "    fig.set_size_inches(5, 5)\n",
    "    m,b = np.polyfit(sx, sy, 1) \n",
    "    ax.plot(sx, m*sx+b, '--k')\n",
    "    \n",
    "    ax = axes[3, 1]\n",
    "    sx=df.mean_FD_Power\n",
    "    sy=data_raw1[x, y, z, :]\n",
    "    sz=df.mean_FD_Power\n",
    "    sx, sy = residualize(sx,sy,sz)\n",
    "    ax.scatter(sx, sy)\n",
    "    ax.set_xlabel('mean_FD_Power.ageRes' + '\\nr=' + str(np.corrcoef(sx,sy)[1,0]))\n",
    "    ax.set_ylabel(raw1_name)    \n",
    "    fig.set_size_inches(5, 5)\n",
    "    m,b = np.polyfit(sx, sy, 1) \n",
    "    ax.plot(sx, m*sx+b, '--k')"
   ]
  },
  {
   "cell_type": "code",
   "execution_count": null,
   "metadata": {},
   "outputs": [],
   "source": [
    ""
   ]
  }
 ],
 "metadata": {
  "kernelspec": {
   "display_name": "Python 2",
   "language": "python",
   "name": "python2"
  },
  "language_info": {
   "codemirror_mode": {
    "name": "ipython",
    "version": 2.0
   },
   "file_extension": ".py",
   "mimetype": "text/x-python",
   "name": "python",
   "nbconvert_exporter": "python",
   "pygments_lexer": "ipython2",
   "version": "2.7.3"
  }
 },
 "nbformat": 4,
 "nbformat_minor": 0
}