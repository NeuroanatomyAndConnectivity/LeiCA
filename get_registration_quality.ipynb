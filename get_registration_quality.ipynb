{
 "cells": [
  {
   "cell_type": "code",
   "execution_count": 66,
   "metadata": {},
   "outputs": [
    {
     "name": "stdout",
     "output_type": "stream",
     "text": [
      "Populating the interactive namespace from numpy and matplotlib\n"
     ]
    }
   ],
   "source": [
    "%pylab inline\n",
    "import pandas as pd\n",
    "import numpy as np\n",
    "from scipy import stats\n",
    "import variables\n",
    "#import matplotlib as mpl\n",
    "#import matplotlib.pyplot as plt\n",
    "import seaborn as sns\n",
    "import os\n",
    "\n",
    "from variables import working_dir, subjects_list"
   ]
  },
  {
   "cell_type": "code",
   "execution_count": 68,
   "metadata": {},
   "outputs": [],
   "source": [
    "in_file = '/Users/franzliem/Desktop/test_data/wd/LeiCA_resting/rsfMRI_preproc_wf/registration/_TR_id_645/_subject_id_0183726/write_file/similarity.txt'\n",
    "subject = '0183726'\n",
    "subjects_list = ['0183726']"
   ]
  },
  {
   "cell_type": "code",
   "execution_count": 20,
   "metadata": {},
   "outputs": [
    {
     "name": "stdout",
     "output_type": "stream",
     "text": [
      "['id', 'bbr_mi', 'flirt6_mi', 'flirt9_mi', 'flirt12_mi', 'bbr_nmi', 'flirt6_nmi', 'flirt9_nmi', 'flirt12_nmi', 'bbr_cr', 'flirt6_cr', 'flirt9_cr', 'flirt12_cr']\n"
     ]
    },
    {
     "ename": "AttributeError",
     "evalue": "'list' object has no attribute 'flatten'",
     "output_type": "error",
     "traceback": [
      "\u001b[0;31m---------------------------------------------------------------------------\u001b[0m",
      "\u001b[0;31mAttributeError\u001b[0m                            Traceback (most recent call last)",
      "\u001b[0;32m<ipython-input-20-e62123de586b>\u001b[0m in \u001b[0;36m<module>\u001b[0;34m()\u001b[0m\n\u001b[1;32m      6\u001b[0m \u001b[0;32mprint\u001b[0m \u001b[0mheader\u001b[0m\u001b[0;34m\u001b[0m\u001b[0m\n\u001b[1;32m      7\u001b[0m \u001b[0mdata\u001b[0m \u001b[0;34m=\u001b[0m \u001b[0;34m[\u001b[0m\u001b[0msubject_id\u001b[0m\u001b[0;34m,\u001b[0m \u001b[0md\u001b[0m\u001b[0;34m[\u001b[0m\u001b[0;34m'mi'\u001b[0m\u001b[0;34m]\u001b[0m\u001b[0;34m]\u001b[0m\u001b[0;34m\u001b[0m\u001b[0m\n\u001b[0;32m----> 8\u001b[0;31m \u001b[0;32mprint\u001b[0m \u001b[0mdata\u001b[0m\u001b[0;34m.\u001b[0m\u001b[0mflatten\u001b[0m\u001b[0;34m\u001b[0m\u001b[0m\n\u001b[0m\u001b[1;32m      9\u001b[0m \u001b[0mdf_ss\u001b[0m \u001b[0;34m=\u001b[0m \u001b[0mpd\u001b[0m\u001b[0;34m.\u001b[0m\u001b[0mDataFrame\u001b[0m\u001b[0;34m(\u001b[0m\u001b[0;34m[\u001b[0m\u001b[0msubject_id\u001b[0m\u001b[0;34m,\u001b[0m\u001b[0;34m]\u001b[0m\u001b[0;34m,\u001b[0m \u001b[0mcolumns\u001b[0m\u001b[0;34m=\u001b[0m\u001b[0;34m[\u001b[0m\u001b[0;34m'id'\u001b[0m\u001b[0;34m]\u001b[0m\u001b[0;34m)\u001b[0m\u001b[0;34m\u001b[0m\u001b[0m\n\u001b[1;32m     10\u001b[0m \u001b[0mdf_ss\u001b[0m\u001b[0;34m\u001b[0m\u001b[0m\n",
      "\u001b[0;31mAttributeError\u001b[0m: 'list' object has no attribute 'flatten'"
     ]
    }
   ],
   "source": [
    ""
   ]
  },
  {
   "cell_type": "code",
   "execution_count": 60,
   "metadata": {},
   "outputs": [
    {
     "data": {
      "text/html": [
       "<div style=\"max-height:1000px;max-width:1500px;overflow:auto;\">\n",
       "<table border=\"1\" class=\"dataframe\">\n",
       "  <thead>\n",
       "    <tr style=\"text-align: right;\">\n",
       "      <th></th>\n",
       "      <th>ID</th>\n",
       "      <th>bbr_mi</th>\n",
       "      <th>flirt6_mi</th>\n",
       "      <th>flirt9_mi</th>\n",
       "      <th>flirt12_mi</th>\n",
       "      <th>bbr_nmi</th>\n",
       "      <th>flirt6_nmi</th>\n",
       "      <th>flirt9_nmi</th>\n",
       "      <th>flirt12_nmi</th>\n",
       "      <th>bbr_cr</th>\n",
       "      <th>flirt6_cr</th>\n",
       "      <th>flirt9_cr</th>\n",
       "      <th>flirt12_cr</th>\n",
       "    </tr>\n",
       "    <tr>\n",
       "      <th>ID</th>\n",
       "      <th></th>\n",
       "      <th></th>\n",
       "      <th></th>\n",
       "      <th></th>\n",
       "      <th></th>\n",
       "      <th></th>\n",
       "      <th></th>\n",
       "      <th></th>\n",
       "      <th></th>\n",
       "      <th></th>\n",
       "      <th></th>\n",
       "      <th></th>\n",
       "      <th></th>\n",
       "    </tr>\n",
       "  </thead>\n",
       "  <tbody>\n",
       "    <tr>\n",
       "      <th>0183726</th>\n",
       "      <td>0183726</td>\n",
       "      <td>0.368545</td>\n",
       "      <td>0.381044</td>\n",
       "      <td>0.383996</td>\n",
       "      <td>0.383744</td>\n",
       "      <td>0.388645</td>\n",
       "      <td>0.401185</td>\n",
       "      <td>0.40511</td>\n",
       "      <td>0.405165</td>\n",
       "      <td>0.869945</td>\n",
       "      <td>0.897124</td>\n",
       "      <td>0.903696</td>\n",
       "      <td>0.903652</td>\n",
       "    </tr>\n",
       "  </tbody>\n",
       "</table>\n",
       "</div>"
      ]
     },
     "output_type": "execute_result",
     "metadata": {}
    }
   ],
   "source": [
    "regs_list = ['bbr', 'flirt6', 'flirt9', 'flirt12']\n",
    "metrics_list = ['mi','nmi','cr']\n",
    "\n",
    "def read_reg_file(in_file, subject_id):\n",
    "    df_ss = pd.DataFrame([subject_id], columns=['id'])\n",
    "    d = np.genfromtxt(in_file)\n",
    "    mi, nmi, cr = d\n",
    "    numdata = np.concatenate([mi, nmi, cr])\n",
    "    data = [subject_id]\n",
    "    data += list(numdata)\n",
    "    header = ['ID']\n",
    "    for m in metrics_list:\n",
    "        for r in regs_list:\n",
    "            header += [r + '_' + m]\n",
    "    #print header\n",
    "    #print data\n",
    "    df = pd.DataFrame(data=data) #, columns=header)\n",
    "    df = df.T\n",
    "    df.columns = header\n",
    "    df = df.set_index(df.ID)\n",
    "    return df\n",
    "\n",
    "\n",
    "d = read_reg_file(in_file, subject)\n",
    "d"
   ]
  },
  {
   "cell_type": "code",
   "execution_count": 69,
   "metadata": {},
   "outputs": [
    {
     "ename": "NameError",
     "evalue": "name 'working_dir' is not defined",
     "output_type": "error",
     "traceback": [
      "\u001b[0;31m---------------------------------------------------------------------------\u001b[0m",
      "\u001b[0;31mNameError\u001b[0m                                 Traceback (most recent call last)",
      "\u001b[0;32m<ipython-input-69-9f8261f657f5>\u001b[0m in \u001b[0;36m<module>\u001b[0;34m()\u001b[0m\n\u001b[1;32m      2\u001b[0m \u001b[0;34m\u001b[0m\u001b[0m\n\u001b[1;32m      3\u001b[0m \u001b[0;32mfor\u001b[0m \u001b[0msubject\u001b[0m \u001b[0;32min\u001b[0m \u001b[0msubject_list\u001b[0m\u001b[0;34m:\u001b[0m\u001b[0;34m\u001b[0m\u001b[0m\n\u001b[0;32m----> 4\u001b[0;31m     \u001b[0min_file\u001b[0m \u001b[0;34m=\u001b[0m \u001b[0mos\u001b[0m\u001b[0;34m.\u001b[0m\u001b[0mpath\u001b[0m\u001b[0;34m.\u001b[0m\u001b[0mjoin\u001b[0m\u001b[0;34m(\u001b[0m\u001b[0mworking_dir\u001b[0m\u001b[0;34m,\u001b[0m \u001b[0;34m'LeiCA_resting/rsfMRI_preproc_wf/registration/_TR_id_645/_subject_id_'\u001b[0m \u001b[0;34m+\u001b[0m \u001b[0msubject\u001b[0m\u001b[0;34m,\u001b[0m\u001b[0;34m'write_file/similarity.txt'\u001b[0m\u001b[0;34m)\u001b[0m\u001b[0;34m\u001b[0m\u001b[0m\n\u001b[0m\u001b[1;32m      5\u001b[0m     \u001b[0;32mprint\u001b[0m \u001b[0min_file\u001b[0m\u001b[0;34m\u001b[0m\u001b[0m\n\u001b[1;32m      6\u001b[0m \u001b[0;34m\u001b[0m\u001b[0m\n",
      "\u001b[0;31mNameError\u001b[0m: name 'working_dir' is not defined"
     ]
    }
   ],
   "source": [
    "df = pd.DataFrame()\n",
    "\n",
    "for subject in subjects_list:\n",
    "    in_file = os.path.join(working_dir, 'LeiCA_resting/rsfMRI_preproc_wf/registration/_TR_id_645/_subject_id_' + subject,'write_file/similarity.txt')\n",
    "    df_ss = read_reg_file(in_file, subject)\n",
    "    df = pd.concat([df, df_ss])"
   ]
  },
  {
   "cell_type": "markdown",
   "metadata": {},
   "source": [
    "# FIGURES\n"
   ]
  },
  {
   "cell_type": "code",
   "execution_count": 71,
   "metadata": {},
   "outputs": [
    {
     "data": {
      "text/html": [
       "<div style=\"max-height:1000px;max-width:1500px;overflow:auto;\">\n",
       "<table border=\"1\" class=\"dataframe\">\n",
       "  <thead>\n",
       "    <tr style=\"text-align: right;\">\n",
       "      <th></th>\n",
       "      <th>ID</th>\n",
       "      <th>bbr_mi</th>\n",
       "      <th>flirt6_mi</th>\n",
       "      <th>flirt9_mi</th>\n",
       "      <th>flirt12_mi</th>\n",
       "      <th>bbr_nmi</th>\n",
       "      <th>flirt6_nmi</th>\n",
       "      <th>flirt9_nmi</th>\n",
       "      <th>flirt12_nmi</th>\n",
       "      <th>bbr_cr</th>\n",
       "      <th>flirt6_cr</th>\n",
       "      <th>flirt9_cr</th>\n",
       "      <th>flirt12_cr</th>\n",
       "    </tr>\n",
       "    <tr>\n",
       "      <th>ID</th>\n",
       "      <th></th>\n",
       "      <th></th>\n",
       "      <th></th>\n",
       "      <th></th>\n",
       "      <th></th>\n",
       "      <th></th>\n",
       "      <th></th>\n",
       "      <th></th>\n",
       "      <th></th>\n",
       "      <th></th>\n",
       "      <th></th>\n",
       "      <th></th>\n",
       "      <th></th>\n",
       "    </tr>\n",
       "  </thead>\n",
       "  <tbody>\n",
       "    <tr>\n",
       "      <th>0183726</th>\n",
       "      <td>0183726</td>\n",
       "      <td>0.368742</td>\n",
       "      <td>0.38143</td>\n",
       "      <td>0.384238</td>\n",
       "      <td>0.384687</td>\n",
       "      <td>0.388189</td>\n",
       "      <td>0.400992</td>\n",
       "      <td>0.406191</td>\n",
       "      <td>0.406287</td>\n",
       "      <td>0.869735</td>\n",
       "      <td>0.898375</td>\n",
       "      <td>0.90591</td>\n",
       "      <td>0.905902</td>\n",
       "    </tr>\n",
       "    <tr>\n",
       "      <th>0152992</th>\n",
       "      <td>0152992</td>\n",
       "      <td>0.320878</td>\n",
       "      <td>0.344339</td>\n",
       "      <td>0.360094</td>\n",
       "      <td>0.361055</td>\n",
       "      <td>0.339764</td>\n",
       "      <td>0.363671</td>\n",
       "      <td>0.381026</td>\n",
       "      <td>0.380525</td>\n",
       "      <td>0.782452</td>\n",
       "      <td>0.836033</td>\n",
       "      <td>0.872489</td>\n",
       "      <td>0.872858</td>\n",
       "    </tr>\n",
       "    <tr>\n",
       "      <th>0171391</th>\n",
       "      <td>0171391</td>\n",
       "      <td>0.356588</td>\n",
       "      <td>0.370787</td>\n",
       "      <td>0.376876</td>\n",
       "      <td>0.375071</td>\n",
       "      <td>0.375035</td>\n",
       "      <td>0.388415</td>\n",
       "      <td>0.394177</td>\n",
       "      <td>0.391768</td>\n",
       "      <td>0.825692</td>\n",
       "      <td>0.858698</td>\n",
       "      <td>0.86829</td>\n",
       "      <td>0.867757</td>\n",
       "    </tr>\n",
       "    <tr>\n",
       "      <th>0177681</th>\n",
       "      <td>0177681</td>\n",
       "      <td>0.317338</td>\n",
       "      <td>0.335441</td>\n",
       "      <td>0.345074</td>\n",
       "      <td>0.344742</td>\n",
       "      <td>0.346707</td>\n",
       "      <td>0.366679</td>\n",
       "      <td>0.383707</td>\n",
       "      <td>0.379261</td>\n",
       "      <td>0.806244</td>\n",
       "      <td>0.849109</td>\n",
       "      <td>0.873</td>\n",
       "      <td>0.868765</td>\n",
       "    </tr>\n",
       "    <tr>\n",
       "      <th>0198985</th>\n",
       "      <td>0198985</td>\n",
       "      <td>0.332716</td>\n",
       "      <td>0.350728</td>\n",
       "      <td>0.351496</td>\n",
       "      <td>0.35112</td>\n",
       "      <td>0.357664</td>\n",
       "      <td>0.37727</td>\n",
       "      <td>0.374119</td>\n",
       "      <td>0.373282</td>\n",
       "      <td>0.786241</td>\n",
       "      <td>0.836019</td>\n",
       "      <td>0.836258</td>\n",
       "      <td>0.835652</td>\n",
       "    </tr>\n",
       "    <tr>\n",
       "      <th>0154555</th>\n",
       "      <td>0154555</td>\n",
       "      <td>0.397257</td>\n",
       "      <td>0.408287</td>\n",
       "      <td>0.423354</td>\n",
       "      <td>0.422572</td>\n",
       "      <td>0.362689</td>\n",
       "      <td>0.371861</td>\n",
       "      <td>0.387395</td>\n",
       "      <td>0.38478</td>\n",
       "      <td>0.852352</td>\n",
       "      <td>0.870209</td>\n",
       "      <td>0.896306</td>\n",
       "      <td>0.893665</td>\n",
       "    </tr>\n",
       "    <tr>\n",
       "      <th>0155419</th>\n",
       "      <td>0155419</td>\n",
       "      <td>0.370447</td>\n",
       "      <td>0.385998</td>\n",
       "      <td>0.395222</td>\n",
       "      <td>0.395126</td>\n",
       "      <td>0.34791</td>\n",
       "      <td>0.361769</td>\n",
       "      <td>0.369668</td>\n",
       "      <td>0.367689</td>\n",
       "      <td>0.803595</td>\n",
       "      <td>0.845282</td>\n",
       "      <td>0.863275</td>\n",
       "      <td>0.861856</td>\n",
       "    </tr>\n",
       "    <tr>\n",
       "      <th>0135591</th>\n",
       "      <td>0135591</td>\n",
       "      <td>0.346551</td>\n",
       "      <td>0.36072</td>\n",
       "      <td>0.371346</td>\n",
       "      <td>0.370382</td>\n",
       "      <td>0.348602</td>\n",
       "      <td>0.362725</td>\n",
       "      <td>0.376454</td>\n",
       "      <td>0.371907</td>\n",
       "      <td>0.808738</td>\n",
       "      <td>0.842076</td>\n",
       "      <td>0.859519</td>\n",
       "      <td>0.857093</td>\n",
       "    </tr>\n",
       "    <tr>\n",
       "      <th>0142579</th>\n",
       "      <td>0142579</td>\n",
       "      <td>0.336726</td>\n",
       "      <td>0.334933</td>\n",
       "      <td>0.361148</td>\n",
       "      <td>0.361019</td>\n",
       "      <td>0.303718</td>\n",
       "      <td>0.302081</td>\n",
       "      <td>0.336428</td>\n",
       "      <td>0.33685</td>\n",
       "      <td>0.743873</td>\n",
       "      <td>0.740461</td>\n",
       "      <td>0.798829</td>\n",
       "      <td>0.798846</td>\n",
       "    </tr>\n",
       "  </tbody>\n",
       "</table>\n",
       "</div>"
      ]
     },
     "output_type": "execute_result",
     "metadata": {}
    }
   ],
   "source": [
    "df = pd.read_pickle('/Users/franzliem/Dropbox/00_Print/registrations_df.pkl')\n",
    "df"
   ]
  },
  {
   "cell_type": "code",
   "execution_count": 96,
   "metadata": {},
   "outputs": [
    {
     "metadata": {}
    }
   ],
   "source": [
    "regs_list = ['bbr', 'flirt6', 'flirt9', 'flirt12']\n",
    "metrics_list = ['mi','nmi','cr']\n",
    "\n",
    "\n",
    "for m in metrics_list:\n",
    "    header = []\n",
    "    for r in regs_list:\n",
    "        header += [r + '_' + m]\n",
    "    #print df[header]\n",
    "    b = sns.boxplot(df[header], join_rm=True)\n",
    "    fig = b.get_figure()\n",
    "    fig.savefig('/Users/franzliem/Dropbox/LeiCA/registration_figs/' + m + '.png')\n",
    "    fig.clear()"
   ]
  },
  {
   "cell_type": "code",
   "execution_count": 89,
   "metadata": {},
   "outputs": [
    {
     "data": {
      "text/plain": [
       "u'/Users/franzliem/Dropbox/Workspace/LeiCA'"
      ]
     },
     "execution_count": 89,
     "output_type": "execute_result",
     "metadata": {}
    }
   ],
   "source": [
    "pwd"
   ]
  },
  {
   "cell_type": "code",
   "metadata": {},
   "outputs": [],
   "source": [
    ""
   ]
  }
 ],
 "metadata": {
  "kernelspec": {
   "display_name": "Python 2",
   "language": "python",
   "name": "python2"
  },
  "language_info": {
   "codemirror_mode": {
    "name": "ipython",
    "version": 2.0
   },
   "file_extension": ".py",
   "mimetype": "text/x-python",
   "name": "python",
   "nbconvert_exporter": "python",
   "pygments_lexer": "ipython2",
   "version": "2.7.8"
  }
 },
 "nbformat": 4,
 "nbformat_minor": 0
}