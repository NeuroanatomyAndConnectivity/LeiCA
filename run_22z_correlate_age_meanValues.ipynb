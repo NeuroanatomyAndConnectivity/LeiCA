{
 "cells": [
  {
   "cell_type": "code",
   "execution_count": 1,
   "metadata": {
    "collapsed": true
   },
   "outputs": [],
   "source": [
    "import pandas as pd\n",
    "import numpy as np\n",
    "\n",
    "\n",
    "# METRICS (for collection & stats)\n",
    "metric_names_list = ['alff',\n",
    " 'falff',\n",
    " 'reho',\n",
    " 'vmhc',\n",
    " 'dc_b',\n",
    " 'evc_b',\n",
    " 'variability_std'\n",
    "                     ]"
   ]
  },
  {
   "cell_type": "code",
   "execution_count": 26,
   "metadata": {
    "collapsed": false
   },
   "outputs": [],
   "source": [
    "def correlate_vals():\n",
    "    print img_path\n",
    "    print \"corr age x mean_values\"\n",
    "    for m in metric_names_list:\n",
    "        df = pd.read_csv(img_path + '/' + m + '/glm/df_used.csv')\n",
    "        print (m + \"\\t\" + \"%.2f\" % np.corrcoef(df.age, df.mean_values)[0,1])\n",
    "\n",
    "    print \"\\ncorr mean_FD x mean_values\"\n",
    "\n",
    "    for m in metric_names_list:\n",
    "        df = pd.read_csv(img_path + '/' + m + '/glm/df_used.csv')\n",
    "        print (m + \"\\t\" + \"%.2f\" % np.corrcoef(df.mean_FD_Power, df.mean_values)[0,1])"
   ]
  },
  {
   "cell_type": "code",
   "execution_count": 27,
   "metadata": {
    "collapsed": false
   },
   "outputs": [
    {
     "name": "stdout",
     "output_type": "stream",
     "text": [
      "/Users/franzliem/Dropbox/LeiCA/group_metric_meanRegression_GM_mask\n",
      "corr age x mean_values\n",
      "alff\t-0.45\n",
      "falff\t-0.51\n",
      "reho\t-0.40\n",
      "vmhc\t-0.45\n",
      "dc_b\t-0.08\n",
      "evc_b\t-0.04\n",
      "variability_std\t-0.42\n",
      "\n",
      "corr mean_FD x mean_values\n",
      "alff\t0.04\n",
      "falff\t-0.07\n",
      "reho\t-0.01\n",
      "vmhc\t-0.12\n",
      "dc_b\t0.02\n",
      "evc_b\t0.08\n",
      "variability_std\t0.03\n"
     ]
    }
   ],
   "source": [
    "img_path = '/Users/franzliem/Dropbox/LeiCA/group_metric_meanRegression_GM_mask'\n",
    "correlate_vals()"
   ]
  },
  {
   "cell_type": "code",
   "execution_count": 28,
   "metadata": {
    "collapsed": false
   },
   "outputs": [
    {
     "name": "stdout",
     "output_type": "stream",
     "text": [
      "/Users/franzliem/Dropbox/LeiCA/group_metric_meanRegression\n",
      "corr age x mean_values\n",
      "alff\t-0.42\n",
      "falff\t-0.50\n",
      "reho\t-0.37\n",
      "vmhc\t-0.45\n",
      "dc_b\t-0.08\n",
      "evc_b\t-0.03\n",
      "variability_std\t-0.40\n",
      "\n",
      "corr mean_FD x mean_values\n",
      "alff\t0.05\n",
      "falff\t-0.06\n",
      "reho\t0.01\n",
      "vmhc\t-0.11\n",
      "dc_b\t0.02\n",
      "evc_b\t0.10\n",
      "variability_std\t0.04\n"
     ]
    }
   ],
   "source": [
    "img_path = '/Users/franzliem/Dropbox/LeiCA/group_metric_meanRegression'\n",
    "correlate_vals()"
   ]
  }
 ],
 "metadata": {
  "kernelspec": {
   "display_name": "Python 2",
   "language": "python",
   "name": "python2"
  },
  "language_info": {
   "codemirror_mode": {
    "name": "ipython",
    "version": 2
   },
   "file_extension": ".py",
   "mimetype": "text/x-python",
   "name": "python",
   "nbconvert_exporter": "python",
   "pygments_lexer": "ipython2",
   "version": "2.7.8"
  }
 },
 "nbformat": 4,
 "nbformat_minor": 0
}
